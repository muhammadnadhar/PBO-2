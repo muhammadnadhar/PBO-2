{
  "nbformat": 4,
  "nbformat_minor": 0,
  "metadata": {
    "colab": {
      "provenance": [],
      "name": "persegi.ipynb",
      "authorship_tag": "ABX9TyOgkPWEoYr6NW2H4aqXfnWD",
      "include_colab_link": true
    },
    "kernelspec": {
      "name": "python3",
      "display_name": "Python 3"
    },
    "language_info": {
      "name": "python"
    }
  },
  "cells": [
    {
      "cell_type": "markdown",
      "metadata": {
        "id": "view-in-github",
        "colab_type": "text"
      },
      "source": [
        "<a href=\"https://colab.research.google.com/github/muhammadnadhar/PBO-2/blob/main/persegi.ipynb\" target=\"_parent\"><img src=\"https://colab.research.google.com/assets/colab-badge.svg\" alt=\"Open In Colab\"/></a>"
      ]
    },
    {
      "cell_type": "markdown",
      "source": [
        "mobile .py"
      ],
      "metadata": {
        "id": "DbTKU9s8-_aw"
      }
    },
    {
      "cell_type": "code",
      "execution_count": 2,
      "metadata": {
        "colab": {
          "base_uri": "https://localhost:8080/"
        },
        "id": "1kYPQUCE-4yi",
        "outputId": "c315b43f-8fe0-4abe-b56d-d34ed7816d1c"
      },
      "outputs": [
        {
          "output_type": "stream",
          "name": "stdout",
          "text": [
            "Luas: 400\n",
            "Keliling: 80\n"
          ]
        }
      ],
      "source": [
        "\n",
        "class Persegi:\n",
        "    def __init__(self, sisi):\n",
        "        self.sisi = sisi\n",
        "\n",
        "    def luas(self):\n",
        "        return self.sisi ** 2\n",
        "\n",
        "    def keliling(self):\n",
        "        return 4 * self.sisi\n",
        "\n",
        "# Membuat objek\n",
        "p1 = Persegi(20)\n",
        "\n",
        "print(\"Luas:\", p1.luas())\n",
        "print(\"Keliling:\", p1.keliling())"
      ]
    },
    {
      "cell_type": "markdown",
      "source": [],
      "metadata": {
        "id": "Iam-22C0_a_Y"
      }
    }
  ]
}