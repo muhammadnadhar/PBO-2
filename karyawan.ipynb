{
  "nbformat": 4,
  "nbformat_minor": 0,
  "metadata": {
    "colab": {
      "provenance": [],
      "name": "karyawan.ipynb",
      "authorship_tag": "ABX9TyMyVFJ7tHtM2fwhKPt1fpZR",
      "include_colab_link": true
    },
    "kernelspec": {
      "name": "python3",
      "display_name": "Python 3"
    },
    "language_info": {
      "name": "python"
    }
  },
  "cells": [
    {
      "cell_type": "markdown",
      "metadata": {
        "id": "view-in-github",
        "colab_type": "text"
      },
      "source": [
        "<a href=\"https://colab.research.google.com/github/muhammadnadhar/PBO-2/blob/main/karyawan.ipynb\" target=\"_parent\"><img src=\"https://colab.research.google.com/assets/colab-badge.svg\" alt=\"Open In Colab\"/></a>"
      ]
    },
    {
      "cell_type": "markdown",
      "source": [
        " karyawan.py"
      ],
      "metadata": {
        "id": "DbTKU9s8-_aw"
      }
    },
    {
      "cell_type": "code",
      "execution_count": 5,
      "metadata": {
        "colab": {
          "base_uri": "https://localhost:8080/"
        },
        "id": "1kYPQUCE-4yi",
        "outputId": "157f8b15-20e6-4e53-faef-b5813c399dfd"
      },
      "outputs": [
        {
          "output_type": "stream",
          "name": "stdout",
          "text": [
            "Gaji tahunan Nadhar: Rp 60000000000000000\n"
          ]
        }
      ],
      "source": [
        "\n",
        "class Karyawan:\n",
        "    def __init__(self, nama, gaji_bulanan):\n",
        "        self.nama = nama\n",
        "        self.gaji_bulanan = gaji_bulanan\n",
        "\n",
        "    def gaji_tahunan(self):\n",
        "        return self.gaji_bulanan * 12\n",
        "\n",
        "# Membuat objek\n",
        "karyawan1 = Karyawan(\"Nadhar\", 5000000000000000)\n",
        "\n",
        "print(f\"Gaji tahunan {karyawan1.nama}: Rp {karyawan1.gaji_tahunan()}\")"
      ]
    },
    {
      "cell_type": "markdown",
      "source": [],
      "metadata": {
        "id": "Iam-22C0_a_Y"
      }
    }
  ]
}