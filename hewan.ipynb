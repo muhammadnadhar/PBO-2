{
  "nbformat": 4,
  "nbformat_minor": 0,
  "metadata": {
    "colab": {
      "provenance": [],
      "name": "persegi.ipynb",
      "authorship_tag": "ABX9TyNcY32E2fewtASa0TYfGtxd",
      "include_colab_link": true
    },
    "kernelspec": {
      "name": "python3",
      "display_name": "Python 3"
    },
    "language_info": {
      "name": "python"
    }
  },
  "cells": [
    {
      "cell_type": "markdown",
      "metadata": {
        "id": "view-in-github",
        "colab_type": "text"
      },
      "source": [
        "<a href=\"https://colab.research.google.com/github/muhammadnadhar/PBO-2/blob/main/hewan.ipynb\" target=\"_parent\"><img src=\"https://colab.research.google.com/assets/colab-badge.svg\" alt=\"Open In Colab\"/></a>"
      ]
    },
    {
      "cell_type": "markdown",
      "source": [
        " hewan.py"
      ],
      "metadata": {
        "id": "DbTKU9s8-_aw"
      }
    },
    {
      "cell_type": "code",
      "execution_count": 4,
      "metadata": {
        "colab": {
          "base_uri": "https://localhost:8080/"
        },
        "id": "1kYPQUCE-4yi",
        "outputId": "4a2bcbbf-d314-4b7d-8c6b-95b631b9440b"
      },
      "outputs": [
        {
          "output_type": "stream",
          "name": "stdout",
          "text": [
            "Kucing berbunyi 'Meong'\n",
            "ikan berbunyi 'bloop bloop'\n",
            "harimau berbunyi 'rooooow'\n"
          ]
        }
      ],
      "source": [
        "\n",
        "class Hewan:\n",
        "    def __init__(self, nama, suara):\n",
        "        self.nama = nama\n",
        "        self.suara = suara\n",
        "\n",
        "    def buat_suara(self):\n",
        "        return f\"{self.nama} berbunyi '{self.suara}'\"\n",
        "\n",
        "# Membuat objek\n",
        "kucing = Hewan(\"Kucing\", \"Meong\")\n",
        "anjing = Hewan(\"ikan\", \"bloop bloop\")\n",
        "Harimau = Hewan(\"harimau\",\"rooooow\")\n",
        "\n",
        "print(kucing.buat_suara())\n",
        "print(anjing.buat_suara())\n",
        "print(Harimau.buat_suara())"
      ]
    },
    {
      "cell_type": "markdown",
      "source": [],
      "metadata": {
        "id": "Iam-22C0_a_Y"
      }
    }
  ]
}