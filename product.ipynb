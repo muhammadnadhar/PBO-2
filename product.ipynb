{
  "nbformat": 4,
  "nbformat_minor": 0,
  "metadata": {
    "colab": {
      "provenance": [],
      "name": "product.ipynb",
      "authorship_tag": "ABX9TyONHTSU2+qfSHFqBNT5ExpC",
      "include_colab_link": true
    },
    "kernelspec": {
      "name": "python3",
      "display_name": "Python 3"
    },
    "language_info": {
      "name": "python"
    }
  },
  "cells": [
    {
      "cell_type": "markdown",
      "metadata": {
        "id": "view-in-github",
        "colab_type": "text"
      },
      "source": [
        "<a href=\"https://colab.research.google.com/github/muhammadnadhar/PBO-2/blob/main/product.ipynb\" target=\"_parent\"><img src=\"https://colab.research.google.com/assets/colab-badge.svg\" alt=\"Open In Colab\"/></a>"
      ]
    },
    {
      "cell_type": "markdown",
      "source": [
        " product.py"
      ],
      "metadata": {
        "id": "DbTKU9s8-_aw"
      }
    },
    {
      "cell_type": "code",
      "execution_count": 6,
      "metadata": {
        "colab": {
          "base_uri": "https://localhost:8080/"
        },
        "id": "1kYPQUCE-4yi",
        "outputId": "5b007259-b75a-4ca5-fad2-69a7e6947396"
      },
      "outputs": [
        {
          "output_type": "stream",
          "name": "stdout",
          "text": [
            "Produk: Laptop, Harga: Rp7500000, Stok: 10 pcs\n",
            "Produk: Mouse, Harga: Rp150000, Stok: 50 pcs\n"
          ]
        }
      ],
      "source": [
        "\n",
        "class Produk:\n",
        "    def __init__(self, nama, harga, stok):\n",
        "        self.nama = nama\n",
        "        self.harga = harga\n",
        "        self.stok = stok\n",
        "\n",
        "    def tampilkan_info(self):\n",
        "        return f\"Produk: {self.nama}, Harga: Rp{self.harga}, Stok: {self.stok} pcs\"\n",
        "\n",
        "# Membuat objek produk\n",
        "produk1 = Produk(\"Laptop\", 7500000, 10)\n",
        "produk2 = Produk(\"Mouse\", 150000, 50)\n",
        "\n",
        "print(produk1.tampilkan_info())\n",
        "print(produk2.tampilkan_info())"
      ]
    },
    {
      "cell_type": "markdown",
      "source": [],
      "metadata": {
        "id": "Iam-22C0_a_Y"
      }
    }
  ]
}