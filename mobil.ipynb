{
  "nbformat": 4,
  "nbformat_minor": 0,
  "metadata": {
    "colab": {
      "provenance": [],
      "authorship_tag": "ABX9TyOijbzXdZ1OOHZNr2BwRQwX",
      "include_colab_link": true
    },
    "kernelspec": {
      "name": "python3",
      "display_name": "Python 3"
    },
    "language_info": {
      "name": "python"
    }
  },
  "cells": [
    {
      "cell_type": "markdown",
      "metadata": {
        "id": "view-in-github",
        "colab_type": "text"
      },
      "source": [
        "<a href=\"https://colab.research.google.com/github/muhammadnadhar/PBO-2/blob/main/mobil.ipynb\" target=\"_parent\"><img src=\"https://colab.research.google.com/assets/colab-badge.svg\" alt=\"Open In Colab\"/></a>"
      ]
    },
    {
      "cell_type": "markdown",
      "source": [
        "mobile .py"
      ],
      "metadata": {
        "id": "DbTKU9s8-_aw"
      }
    },
    {
      "cell_type": "code",
      "execution_count": null,
      "metadata": {
        "colab": {
          "base_uri": "https://localhost:8080/"
        },
        "id": "1kYPQUCE-4yi",
        "outputId": "83a494b3-2a75-4782-d9a6-1e345010b4b4"
      },
      "outputs": [
        {
          "output_type": "stream",
          "name": "stdout",
          "text": [
            "Toyota Corolla (2022)\n",
            "Honda Civic (2021)\n"
          ]
        }
      ],
      "source": [
        "class Mobil:\n",
        "    def __init__(self, merek, model, tahun):\n",
        "        self.merek = merek\n",
        "        self.model = model\n",
        "        self.tahun = tahun\n",
        "\n",
        "    def info(self):\n",
        "        return f\"{self.merek} {self.model} ({self.tahun})\"\n",
        "\n",
        "# Membuat objek\n",
        "mobil1 = Mobil(\"Toyota\", \"Corolla\", 2022)\n",
        "mobil2 = Mobil(\"Honda\", \"Civic\", 2021)\n",
        "\n",
        "# Memanggil method\n",
        "print(mobil1.info())\n",
        "print(mobil2.info())\n"
      ]
    },
    {
      "cell_type": "markdown",
      "source": [],
      "metadata": {
        "id": "Iam-22C0_a_Y"
      }
    }
  ]
}